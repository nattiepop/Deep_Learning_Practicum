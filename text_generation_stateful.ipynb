{
  "cells": [
    {
      "attachments": {},
      "cell_type": "markdown",
      "metadata": {
        "id": "inLc5F-9qOKA"
      },
      "source": [
        "# Generating Shakespearean Text \n",
        "In this exercise, you will train a character-level sequence model on a subset of Shakespeare's works (a single text file), and use it to generate novel text, one charactor at a time according to a distribution learned from the dataset. For this to be effective, we will build our  language model to be stateful, so that the internal state of the RNN will be maintained across batches. \n",
        "The Shakespearen Text used in this exercise has 65 classes (total distinct characters) with 1,115,394 characters.\n",
        "\n",
        "Besides tf.keras that you used previously, you will use the tf.data module preprocessing tools to construct a data ingestion pipeline including batching, shuffing the dataset to train a model to classify the next character. \n",
        "\n",
        "\n"
      ]
    },
    {
      "cell_type": "code",
      "execution_count": 1,
      "metadata": {
        "id": "EnajdppRbtb5"
      },
      "outputs": [],
      "source": [
        "# import dependencies\n",
        "import numpy as np\n",
        "import matplotlib.pyplot as plt\n",
        "import tensorflow as tf # version 2.9.2\n",
        "from tensorflow import keras\n",
        "from tensorflow.keras import Sequential, Input, Model\n",
        "from tensorflow.keras.callbacks import ModelCheckpoint, ReduceLROnPlateau\n",
        "from tensorflow.keras.optimizers import RMSprop, Adam, SGD\n",
        "from tensorflow.keras.layers import TextVectorization, Dense, Flatten, Softmax, Dropout, Embedding, SimpleRNN, LSTM, GRU, Bidirectional"
      ]
    },
    {
      "cell_type": "markdown",
      "metadata": {
        "id": "ZYGK1SeHtuCh"
      },
      "source": [
        "## Data Collection"
      ]
    },
    {
      "cell_type": "code",
      "execution_count": 2,
      "metadata": {
        "colab": {
          "base_uri": "https://localhost:8080/"
        },
        "id": "zJNcT9VsgYJz",
        "outputId": "c91e981b-71e2-4d2f-bd5b-8534eb86d143"
      },
      "outputs": [
        {
          "name": "stdout",
          "output_type": "stream",
          "text": [
            "Downloading data from https://raw.githubusercontent.com/karpathy/char-rnn/master/data/tinyshakespeare/input.txt\n",
            "1115394/1115394 [==============================] - 0s 0us/step\n"
          ]
        }
      ],
      "source": [
        "# download Shakespeare's work from Andreh Karpathy's Char-Rnn Project\n",
        "shakespeare_url = \"https://raw.githubusercontent.com/karpathy/char-rnn/master/data/tinyshakespeare/input.txt\"\n",
        "filepath = keras.utils.get_file(\"shakespeare.txt\", shakespeare_url)\n",
        "with open(filepath) as f:\n",
        "    shakespeare_text = f.read()"
      ]
    },
    {
      "cell_type": "markdown",
      "metadata": {
        "id": "gQb06ktUtwJo"
      },
      "source": [
        "## Data Exploration"
      ]
    },
    {
      "cell_type": "code",
      "execution_count": 3,
      "metadata": {
        "colab": {
          "base_uri": "https://localhost:8080/"
        },
        "id": "5oI0kbvlgfhy",
        "outputId": "bd74bf68-3f00-4971-df21-754fb61ac10d"
      },
      "outputs": [
        {
          "name": "stdout",
          "output_type": "stream",
          "text": [
            "Total number of characters in the corpus is: 1115394\n",
            "The first 200 characters of the corpus are as follows:\n",
            " First Citizen:\n",
            "Before we proceed any further, hear me speak.\n",
            "\n",
            "All:\n",
            "Speak, speak.\n",
            "\n",
            "First Citizen:\n",
            "You are all resolved rather to die than to famish?\n",
            "\n",
            "All:\n",
            "Resolved. resolved.\n",
            "\n",
            "First Citizen:\n",
            "First, you\n"
          ]
        }
      ],
      "source": [
        "# explore the length of text and the first 200 charactors in the Shakespeare text\n",
        "print('Total number of characters in the corpus is:', len(shakespeare_text))\n",
        "print('The first 200 characters of the corpus are as follows:\\n', shakespeare_text[:200])"
      ]
    },
    {
      "cell_type": "code",
      "execution_count": 4,
      "metadata": {
        "colab": {
          "base_uri": "https://localhost:8080/"
        },
        "id": "B4KvcX_lgobS",
        "outputId": "1aae51b2-1d54-4089-9d6b-eb39cb66703b"
      },
      "outputs": [
        {
          "name": "stdout",
          "output_type": "stream",
          "text": [
            "The number of unique characters in the corpus is 65\n",
            "A slice of the unique characters set:\n",
            " ['\\n', ' ', '!', '$', '&', \"'\", ',', '-', '.', '3']\n"
          ]
        }
      ],
      "source": [
        "# The unique characters in the corpus\n",
        "vocab = sorted(set(shakespeare_text))\n",
        "print ('The number of unique characters in the corpus is', len(vocab))\n",
        "print('A slice of the unique characters set:\\n', vocab[:10])"
      ]
    },
    {
      "cell_type": "markdown",
      "metadata": {
        "id": "jPQD-Z8ft0VA"
      },
      "source": [
        "## Data Preparation"
      ]
    },
    {
      "cell_type": "markdown",
      "metadata": {
        "id": "CRHrxiZBcpZO"
      },
      "source": [
        "### Vectorizing the shakespeare_text \n",
        "Before feeding the text to our model, we need to convert the text from a sequence of characters to a sequence of numbers. To do so we will use TextVectorizatoin layer to tokenize shakespeare text form its vocabulary.  After adapting with its  out of it and replace each character with its index in the vocabulary. \n",
        "\n",
        "Note:\n",
        "\n",
        "\n",
        "*   In this exercise, you can use standardize = None, split='character' as TextVectorization arguments since we might need machine to generate capitalcase and some punctualtion corresponding to Shakespeare styles of writting\n",
        "*   After vectorizing text, the unique charactors are 67. Since we need meaningful characters, you must renumber the tokenized text by removing padding (index 0) and unknown words (index 1) since we will not genetate them. For example,the tokenized text after text vectorization is <tf.Tensor: shape=(1115394,), dtype=int64, numpy=array([51, 11,  9, ..., 22, 27, 12])>\n",
        "=> the result of this step must be # tf.Tensor([49  9  7 ... 20 25 10], shape=(1115394,), dtype=int64).\n",
        "*   We don't have to do one-hot encoding at the final step of preparation since we will use loss as SparseCategoricalCrossentropy."
      ]
    },
    {
      "cell_type": "code",
      "execution_count": 5,
      "metadata": {
        "colab": {
          "base_uri": "https://localhost:8080/"
        },
        "id": "XX0vh6twg1jM",
        "outputId": "0fe84fbe-02f8-4e29-94b7-ad5d85eb74ad"
      },
      "outputs": [
        {
          "name": "stdout",
          "output_type": "stream",
          "text": [
            "['', '[UNK]', ' ', 'e', 't'] with length 67\n",
            "tf.Tensor([51 11  9 ... 22 27 12], shape=(1115394,), dtype=int64)\n",
            "tf.Tensor([49  9  7 ... 20 25 10], shape=(1115394,), dtype=int64)\n",
            "Vocab size: 65\n"
          ]
        }
      ],
      "source": [
        "text_vectorization = TextVectorization(\n",
        "    standardize = None,\n",
        "    split='character',\n",
        "    max_tokens=20000,\n",
        "    output_mode=\"int\",\n",
        ")\n",
        "\n",
        "text_vectorization.adapt([shakespeare_text]) # list that contains string\n",
        "vocabulary = text_vectorization.get_vocabulary()\n",
        "print(vocabulary[:5], \"with length\", len(vocabulary)) # ['', '[UNK]', ' ', 'e', 't'] with length 67\n",
        "text = text_vectorization([shakespeare_text][0]) # string\n",
        "print(text) # <tf.Tensor: shape=(1115394,), dtype=int64, numpy=array([51, 11,  9, ..., 22, 27, 12])>\n",
        "\n",
        "# remove padding (index 0) and unknown words (index 1) since we will not genetate them\n",
        "text = tf.subtract(text,2)\n",
        "print(text) # tf.Tensor([49  9  7 ... 20 25 10], shape=(1115394,), dtype=int64)\n",
        "vocab_size = len(vocabulary) - 2\n",
        "print(\"Vocab size:\", vocab_size) # Vocab size: 65"
      ]
    },
    {
      "cell_type": "code",
      "execution_count": 6,
      "metadata": {
        "id": "0Bk22XL6n2XH"
      },
      "outputs": [],
      "source": [
        "# Create a mapping from indices to unique characters for generating text predicted at inference time\n",
        "idx2char = idx2char = dict(enumerate(vocabulary[2:]))"
      ]
    },
    {
      "cell_type": "markdown",
      "metadata": {
        "id": "ViGoD7oHsFA3"
      },
      "source": [
        "### Creating an input and output array\n",
        "In this part, we will create an input and output array from the list of tokens from Shackspearean text. Let 's specify the length of corresponding input and target array to be the same size of 100 characters (maxlen = 100) and both are overlapped with 1 charactor. (the target is shifted to the right 1 step ahead)\n",
        "Note: make sure that the input and output array fulfil the following specification:\n",
        "\n",
        "* Input array and an output array, both of size (num_examples, maxlen). You should have num_examples = 11,153.\n",
        "* The input array should contain the 100 tokens of each sequence.\n",
        "* The output array should contain the last 99 characters of input array + 1 (next character token) of each sequence.\n",
        "* To support model to be stateful, we will sample a new sequence every 100 characters so that the next sequence continue where the previous left off."
      ]
    },
    {
      "cell_type": "code",
      "execution_count": 7,
      "metadata": {
        "colab": {
          "base_uri": "https://localhost:8080/"
        },
        "id": "5w2Fwak8x78t",
        "outputId": "48d33458-8f01-42c3-d043-36ada009968a"
      },
      "outputs": [
        {
          "name": "stdout",
          "output_type": "stream",
          "text": [
            "Number of sequences: 11153\n"
          ]
        }
      ],
      "source": [
        "maxlen = 100 # extract sequences of 100 characters\n",
        "shift = 100 # sample a new sequence every 100 characters\n",
        "sentences = [] # keep the extracted input sequences\n",
        "target_sentences = [] # keep the output sequences \n",
        "for i in range(0, len(text) - maxlen-1, shift):\n",
        "  sentences.append(text[i:i+maxlen])\n",
        "  target_sentences.append(text[i+1:i+maxlen+1])\n",
        "print('Number of sequences:', len(sentences))\n",
        "sentences = np.array(sentences)\n",
        "target_sentences = np.array(target_sentences)"
      ]
    },
    {
      "cell_type": "code",
      "execution_count": 8,
      "metadata": {
        "colab": {
          "base_uri": "https://localhost:8080/"
        },
        "id": "wMHsa62Ls-JX",
        "outputId": "7fc9a0c8-85f1-4b01-c4fc-4827521bab23"
      },
      "outputs": [
        {
          "name": "stdout",
          "output_type": "stream",
          "text": [
            "(11153, 100)\n",
            "(11153, 100)\n"
          ]
        }
      ],
      "source": [
        "# explore shape of input and output arrays\n",
        "print(sentences.shape) # (11154,)\n",
        "print(target_sentences.shape) # (11154,)"
      ]
    },
    {
      "cell_type": "code",
      "execution_count": 9,
      "metadata": {
        "colab": {
          "base_uri": "https://localhost:8080/"
        },
        "id": "ezOTahHQyll3",
        "outputId": "7548b041-fc8a-4017-e2cd-cac94641e7d1"
      },
      "outputs": [
        {
          "name": "stdout",
          "output_type": "stream",
          "text": [
            "[49  9  7  6  2  0 37  9  2  9 57  1  8 24 10 43  1 18  3  7  1  0 17  1\n",
            "  0 23  7  3 19  1  1 12  0  4  8 15  0 18 13  7  2  5  1  7 16  0  5  1\n",
            "  4  7  0 14  1  0  6 23  1  4 28 25 10 10 26 11 11 24 10 35 23  1  4 28\n",
            " 16  0  6 23  1  4 28 25 10 10 49  9  7  6  2  0 37  9  2  9 57  1  8 24\n",
            " 10 50  3 13]\n",
            "[ 9  7  6  2  0 37  9  2  9 57  1  8 24 10 43  1 18  3  7  1  0 17  1  0\n",
            " 23  7  3 19  1  1 12  0  4  8 15  0 18 13  7  2  5  1  7 16  0  5  1  4\n",
            "  7  0 14  1  0  6 23  1  4 28 25 10 10 26 11 11 24 10 35 23  1  4 28 16\n",
            "  0  6 23  1  4 28 25 10 10 49  9  7  6  2  0 37  9  2  9 57  1  8 24 10\n",
            " 50  3 13  0]\n",
            "[ 0  4  7  1  0  4 11 11  0  7  1  6  3 11 27  1 12  0  7  4  2  5  1  7\n",
            "  0  2  3  0 12  9  1  0  2  5  4  8  0  2  3  0 18  4 14  9  6  5 44 10\n",
            " 10 26 11 11 24 10 34  1  6  3 11 27  1 12 25  0  7  1  6  3 11 27  1 12\n",
            " 25 10 10 49  9  7  6  2  0 37  9  2  9 57  1  8 24 10 49  9  7  6  2 16\n",
            "  0 15  3 13]\n",
            "[ 4  7  1  0  4 11 11  0  7  1  6  3 11 27  1 12  0  7  4  2  5  1  7  0\n",
            "  2  3  0 12  9  1  0  2  5  4  8  0  2  3  0 18  4 14  9  6  5 44 10 10\n",
            " 26 11 11 24 10 34  1  6  3 11 27  1 12 25  0  7  1  6  3 11 27  1 12 25\n",
            " 10 10 49  9  7  6  2  0 37  9  2  9 57  1  8 24 10 49  9  7  6  2 16  0\n",
            " 15  3 13  0]\n"
          ]
        }
      ],
      "source": [
        "# explore the first and second training data\n",
        "print(sentences[0])\n",
        "print(target_sentences[0])\n",
        "print(sentences[1])\n",
        "print(target_sentences[1])"
      ]
    },
    {
      "cell_type": "code",
      "execution_count": 10,
      "metadata": {
        "colab": {
          "base_uri": "https://localhost:8080/"
        },
        "id": "E8yC9-zNPEAx",
        "outputId": "7aaf3fb9-e125-474e-a1a4-c8be7a5674f3"
      },
      "outputs": [
        {
          "name": "stdout",
          "output_type": "stream",
          "text": [
            "F i r s t   C i t i z e n : \n",
            " B e f o r e   w e   p r o c e e d   a n y   f u r t h e r ,   h e a r   m e   s p e a k . \n",
            " \n",
            " A l l : \n",
            " S p e a k ,   s p e a k . \n",
            " \n",
            " F i r s t   C i t i z e n : \n",
            " Y o u\n",
            "=================\n",
            "i r s t   C i t i z e n : \n",
            " B e f o r e   w e   p r o c e e d   a n y   f u r t h e r ,   h e a r   m e   s p e a k . \n",
            " \n",
            " A l l : \n",
            " S p e a k ,   s p e a k . \n",
            " \n",
            " F i r s t   C i t i z e n : \n",
            " Y o u  \n",
            "=================\n",
            "  a r e   a l l   r e s o l v e d   r a t h e r   t o   d i e   t h a n   t o   f a m i s h ? \n",
            " \n",
            " A l l : \n",
            " R e s o l v e d .   r e s o l v e d . \n",
            " \n",
            " F i r s t   C i t i z e n : \n",
            " F i r s t ,   y o u\n",
            "=================\n",
            "a r e   a l l   r e s o l v e d   r a t h e r   t o   d i e   t h a n   t o   f a m i s h ? \n",
            " \n",
            " A l l : \n",
            " R e s o l v e d .   r e s o l v e d . \n",
            " \n",
            " F i r s t   C i t i z e n : \n",
            " F i r s t ,   y o u  \n"
          ]
        }
      ],
      "source": [
        "# explore the first and second training data\n",
        "print(\" \".join([idx2char[c] for c in sentences[0]]))\n",
        "print('=================')\n",
        "print(\" \".join([idx2char[c] for c in target_sentences[0]]))\n",
        "print('=================')\n",
        "print(\" \".join([idx2char[c] for c in sentences[1]]))\n",
        "print('=================')\n",
        "print(\" \".join([idx2char[c] for c in target_sentences[1]]))"
      ]
    },
    {
      "cell_type": "markdown",
      "metadata": {
        "id": "0NkHQjXN1p7O"
      },
      "source": [
        "###Preprocess sequence array for stateful RNN\n",
        "We will build RNN language model to be stateful, so that the internal state of the RNN will be maintained across batches. For this to be effective, we need to make sure that each element of every batch follows on from the corresponding element of the preceding batch\n",
        "\n",
        "The following code processes the input and output sequence arrays so that they are ready to be split into batches for training a stateful RNN, by re-ordering the sequence examples (the rows) according to a specified batch size.<br>\n",
        "you can read how to process the batchs here https://datascience.stackexchange.com/questions/66164/about-batches-in-stateful-rnn \n"
      ]
    },
    {
      "cell_type": "code",
      "execution_count": 11,
      "metadata": {
        "id": "rGuzMznEzPoL"
      },
      "outputs": [],
      "source": [
        "# Prepare input and output arrays for training the stateful RNN\n",
        "batch_size = 32\n",
        "\n",
        "num_examples = sentences.shape[0] # 11153\n",
        "\n",
        "num_processed_examples = num_examples - (num_examples % batch_size) # 11136\n",
        "\n",
        "sentences = sentences[:num_processed_examples] # shape = (11136, 100)\n",
        "target_sentences = target_sentences[:num_processed_examples] # shape = (11136, 100)\n",
        "\n",
        "steps = int(num_processed_examples / 32)  # steps per epoch\n",
        "#print(steps) # 348\n",
        "inx = np.empty((0,), dtype=np.int32)\n",
        "for i in range(steps):\n",
        "    #print(i,np.arange(0, num_processed_examples, steps)\n",
        "    inx = np.concatenate((inx, i + np.arange(0, num_processed_examples, steps)))\n",
        "\n",
        "#print(inx) # [0,   348,   696, ..., 10439, 10787, 11135]\n",
        "sentences_stateful = sentences[inx] # re-ordering so that the seqeunce are process consecutively \n",
        "# you can read how to process the batchs here https://datascience.stackexchange.com/questions/66164/about-batches-in-stateful-rnn \n",
        "target_sentences_stateful = target_sentences[inx]"
      ]
    },
    {
      "cell_type": "markdown",
      "metadata": {
        "id": "_n3Gt4OQ10Om"
      },
      "source": [
        "### Split the data\n",
        "In this exercise, let' split the data into training set, validation set and test set with the proportion of 70:20:10 percents."
      ]
    },
    {
      "cell_type": "code",
      "execution_count": 12,
      "metadata": {
        "id": "zRew8Oi5tm2E"
      },
      "outputs": [],
      "source": [
        "train_size = int(batch_size * ((0.7 * num_processed_examples) // batch_size))\n",
        "val_size = int(batch_size * ((0.9 * num_processed_examples) // batch_size))\n",
        "\n",
        "input_train = sentences_stateful[:train_size]\n",
        "target_train = target_sentences_stateful[:train_size]\n",
        "input_val = sentences_stateful[train_size:val_size]\n",
        "target_val = target_sentences_stateful[train_size:val_size]\n",
        "input_test = sentences_stateful[val_size:]\n",
        "target_test = target_sentences_stateful[val_size:]"
      ]
    },
    {
      "cell_type": "code",
      "execution_count": 13,
      "metadata": {
        "colab": {
          "base_uri": "https://localhost:8080/"
        },
        "id": "qhlJgk7juE6C",
        "outputId": "33253650-8c3c-48b8-ce04-06c325adf39d"
      },
      "outputs": [
        {
          "data": {
            "text/plain": [
              "((7776, 100), (2240, 100), (1120, 100))"
            ]
          },
          "execution_count": 13,
          "metadata": {},
          "output_type": "execute_result"
        }
      ],
      "source": [
        "input_train.shape, input_val.shape, input_test.shape"
      ]
    },
    {
      "cell_type": "markdown",
      "metadata": {
        "id": "Pa0KBvQ018EX"
      },
      "source": [
        "###Creating the TensorFlow Dataset\n",
        "In this exercise, we will utiize the Dataset from TensorFlow. This is achieved by using tf.data.Dataset to create the dataset object in tensorflow that has a rich set of processing tools to process the data. In this part, you will write the function that create a Dataset using the from_tensor_slices static method, passing in a tuple of the input and output numpy arrays and we will split them into batchs, setting drop_remainder to True. The function should then return the Dataset object."
      ]
    },
    {
      "cell_type": "code",
      "execution_count": 14,
      "metadata": {
        "id": "PDUCuoy6t39D"
      },
      "outputs": [],
      "source": [
        "# Complete the following function.\n",
        "# Make sure not to change the function name or arguments.\n",
        "\n",
        "def make_Dataset(input_array, target_array, batch_size):\n",
        "    \"\"\"\n",
        "    This function takes a numpy array batch of input data in the first argument, and\n",
        "    a corresponding array containing the labels in the second argument, and an integer\n",
        "    batch_size in the third argument. It should create and return a Dataset object \n",
        "    using the two numpy arrays and batch size according to the above specification.\n",
        "    \"\"\"\n",
        "    dataset = tf.data.Dataset.from_tensor_slices((input_array, target_array))\n",
        "    # Generate batched sequences out of the dataset.\n",
        "    dataset = dataset.batch(batch_size, drop_remainder=True)\n",
        "    \n",
        "    # code for shuffling with in a batch size (optional)\n",
        "    # buffer_size = 10000\n",
        "    # dataset = dataset.shuffle(buffer_size).batch(batch_size, drop_remainder=True)\n",
        "    return dataset"
      ]
    },
    {
      "cell_type": "code",
      "execution_count": 15,
      "metadata": {
        "id": "oBrT6m6Vt7iM"
      },
      "outputs": [],
      "source": [
        "# Create the training and validation Datasets\n",
        "\n",
        "dataset = make_Dataset(input_train, target_train, batch_size)\n",
        "val_dataset = make_Dataset(input_val, target_val, batch_size)\n",
        "test_dataset = make_Dataset(input_test, target_test, batch_size)"
      ]
    },
    {
      "cell_type": "code",
      "execution_count": 16,
      "metadata": {
        "colab": {
          "base_uri": "https://localhost:8080/"
        },
        "id": "yZgVfCchuaqI",
        "outputId": "822a038b-0044-4cf1-e735-6fc206107354"
      },
      "outputs": [
        {
          "name": "stdout",
          "output_type": "stream",
          "text": [
            "(TensorSpec(shape=(32, 100), dtype=tf.int64, name=None), TensorSpec(shape=(32, 100), dtype=tf.int64, name=None))\n",
            "(TensorSpec(shape=(32, 100), dtype=tf.int64, name=None), TensorSpec(shape=(32, 100), dtype=tf.int64, name=None))\n",
            "(TensorSpec(shape=(32, 100), dtype=tf.int64, name=None), TensorSpec(shape=(32, 100), dtype=tf.int64, name=None))\n"
          ]
        }
      ],
      "source": [
        "print(dataset.element_spec)\n",
        "print(val_dataset.element_spec)\n",
        "print(test_dataset.element_spec)"
      ]
    },
    {
      "cell_type": "code",
      "execution_count": 17,
      "metadata": {
        "colab": {
          "base_uri": "https://localhost:8080/"
        },
        "id": "pxB40E-D0NvP",
        "outputId": "4ee2b692-e83c-4aaa-85e4-adc51c2b77b8"
      },
      "outputs": [
        {
          "name": "stdout",
          "output_type": "stream",
          "text": [
            "(32, 100) (32, 100)\n",
            "(32, 100) (32, 100)\n",
            "(32, 100) (32, 100)\n",
            "(32, 100) (32, 100)\n",
            "(32, 100) (32, 100)\n"
          ]
        }
      ],
      "source": [
        "# take - fetch 5 samples\n",
        "for X_batch, Y_batch in dataset.take(5):\n",
        "    print(X_batch.shape, Y_batch.shape)"
      ]
    },
    {
      "cell_type": "markdown",
      "metadata": {
        "id": "dZyXffzE28V0"
      },
      "source": [
        "## Modelling\n",
        "Let's build your language model. The model will receive a sequence of characters and predict the next character in the sequence. At training time, the model can be passed an input sequence, with the output sequence is shifted by one.\n",
        "\n",
        "For example, <br>\n",
        "Input: \"How are y?\" Output: \"ow are yo\" <br>\n",
        "Note the Output is the same length as the input\n",
        "<br>\n",
        "In this part, we will let you complete the function that takes arguments for the vocabulary size (number of tokens) and batch size. Using the Sequential API, your function should build your model according to the following specifications: (In total, the network should have 3 layers.)\n",
        "\n",
        "* The first layer should be an Embedding layer with an  embedding dimension of 256 and set the vocabulary size to vocab_size from the function argument.\n",
        "* The Embedding layer should also mask the zero padding in the input sequences.\n",
        "* The Embedding layer should also set the batch_input_shape to (batch_size, None) (a fixed batch size is required for stateful RNNs).\n",
        "* The next layer should be a (uni-directional) GRU layer with 1024 units, set to be a stateful RNN layer.\n",
        "* The GRU layer should return the full sequence, instead of just the output state at the final time step.\n",
        "* The final layer should be a Dense layer with vocab_size units and no activation function since we use from sparse categorical cross entropy loss with logit=True to reduce softmax computation.\n"
      ]
    },
    {
      "cell_type": "code",
      "execution_count": 18,
      "metadata": {
        "id": "vJrq6P-4PKX_"
      },
      "outputs": [],
      "source": [
        "def get_model(vocab_size, batch_size):\n",
        "    \"\"\"\n",
        "    This function takes a vocabulary size and batch size, and builds and returns a \n",
        "    Sequential model according to the above specification.\n",
        "    \"\"\"\n",
        "    model = tf.keras.Sequential(\n",
        "        [\n",
        "         Embedding(vocab_size, 256, mask_zero=True, batch_input_shape=(batch_size, None)),\n",
        "         GRU(1024, stateful=True, return_sequences=True),\n",
        "         Dense(vocab_size)\n",
        "        ]\n",
        "    )\n",
        "\n",
        "    \n",
        "    return model"
      ]
    },
    {
      "cell_type": "code",
      "execution_count": 19,
      "metadata": {
        "colab": {
          "base_uri": "https://localhost:8080/"
        },
        "id": "1J3w4cQkPIiM",
        "outputId": "f3260be1-bf36-4e5b-8d20-786142ae0cea"
      },
      "outputs": [
        {
          "name": "stdout",
          "output_type": "stream",
          "text": [
            "Model: \"sequential\"\n",
            "_________________________________________________________________\n",
            " Layer (type)                Output Shape              Param #   \n",
            "=================================================================\n",
            " embedding (Embedding)       (32, None, 256)           16640     \n",
            "                                                                 \n",
            " gru (GRU)                   (32, None, 1024)          3938304   \n",
            "                                                                 \n",
            " dense (Dense)               (32, None, 65)            66625     \n",
            "                                                                 \n",
            "=================================================================\n",
            "Total params: 4,021,569\n",
            "Trainable params: 4,021,569\n",
            "Non-trainable params: 0\n",
            "_________________________________________________________________\n"
          ]
        }
      ],
      "source": [
        "vocab_size = len(vocab) # no. of unique characters\n",
        "batch_size = 32\n",
        "\n",
        "model = get_model(vocab_size, batch_size)\n",
        "model.summary()"
      ]
    },
    {
      "cell_type": "code",
      "execution_count": 20,
      "metadata": {
        "id": "IuYdERSpO3sI"
      },
      "outputs": [],
      "source": [
        "# compile the model\n",
        "model.compile(optimizer='adam', loss=tf.keras.losses.SparseCategoricalCrossentropy(from_logits=True), metrics=['acc'])"
      ]
    },
    {
      "cell_type": "code",
      "execution_count": 21,
      "metadata": {
        "colab": {
          "base_uri": "https://localhost:8080/"
        },
        "id": "qwDJl53tqdYn",
        "outputId": "bb9a3779-a0be-4df2-9462-8bc6dab39428"
      },
      "outputs": [
        {
          "name": "stdout",
          "output_type": "stream",
          "text": [
            "Epoch 1/20\n",
            "243/243 [==============================] - 1112s 5s/step - loss: 2.1365 - acc: 0.3092 - val_loss: 1.7150 - val_acc: 0.4056\n",
            "Epoch 2/20\n",
            "243/243 [==============================] - 1082s 4s/step - loss: 1.5135 - acc: 0.4720 - val_loss: 1.3621 - val_acc: 0.5243\n",
            "Epoch 3/20\n",
            "243/243 [==============================] - 1014s 4s/step - loss: 1.2369 - acc: 0.5621 - val_loss: 1.1799 - val_acc: 0.5821\n",
            "Epoch 4/20\n",
            "243/243 [==============================] - 1023s 4s/step - loss: 1.0839 - acc: 0.6102 - val_loss: 1.0946 - val_acc: 0.6106\n",
            "Epoch 5/20\n",
            "243/243 [==============================] - 983s 4s/step - loss: 0.9839 - acc: 0.6410 - val_loss: 1.0543 - val_acc: 0.6235\n",
            "Epoch 6/20\n",
            "243/243 [==============================] - 1048s 4s/step - loss: 0.9051 - acc: 0.6660 - val_loss: 1.0386 - val_acc: 0.6306\n",
            "Epoch 7/20\n",
            "243/243 [==============================] - 1115s 5s/step - loss: 0.8348 - acc: 0.6889 - val_loss: 1.0445 - val_acc: 0.6300\n",
            "Epoch 8/20\n",
            "243/243 [==============================] - 1121s 5s/step - loss: 0.7634 - acc: 0.7131 - val_loss: 1.0745 - val_acc: 0.6224\n",
            "Epoch 9/20\n",
            "243/243 [==============================] - 1117s 5s/step - loss: 0.6949 - acc: 0.7378 - val_loss: 1.1191 - val_acc: 0.6191\n",
            "Epoch 10/20\n",
            "243/243 [==============================] - 1096s 5s/step - loss: 0.6323 - acc: 0.7607 - val_loss: 1.1910 - val_acc: 0.6047\n",
            "Epoch 11/20\n",
            "243/243 [==============================] - 1090s 4s/step - loss: 0.5824 - acc: 0.7786 - val_loss: 1.2504 - val_acc: 0.5893\n",
            "Epoch 12/20\n",
            "243/243 [==============================] - 1096s 5s/step - loss: 0.5486 - acc: 0.7897 - val_loss: 1.2694 - val_acc: 0.5981\n",
            "Epoch 13/20\n",
            "243/243 [==============================] - 1092s 4s/step - loss: 0.4944 - acc: 0.8105 - val_loss: 1.3158 - val_acc: 0.6010\n",
            "Epoch 14/20\n",
            "243/243 [==============================] - 1104s 5s/step - loss: 0.4458 - acc: 0.8292 - val_loss: 1.3672 - val_acc: 0.5964\n",
            "Epoch 15/20\n",
            "243/243 [==============================] - 1070s 4s/step - loss: 0.4132 - acc: 0.8409 - val_loss: 1.3985 - val_acc: 0.5981\n",
            "Epoch 16/20\n",
            "243/243 [==============================] - 1001s 4s/step - loss: 0.3882 - acc: 0.8493 - val_loss: 1.4373 - val_acc: 0.5966\n",
            "Epoch 17/20\n",
            "243/243 [==============================] - 1072s 4s/step - loss: 0.3694 - acc: 0.8554 - val_loss: 1.4754 - val_acc: 0.5939\n",
            "Epoch 18/20\n",
            "243/243 [==============================] - 1101s 5s/step - loss: 0.3551 - acc: 0.8601 - val_loss: 1.5173 - val_acc: 0.5874\n",
            "Epoch 19/20\n",
            "243/243 [==============================] - 1138s 5s/step - loss: 0.3446 - acc: 0.8636 - val_loss: 1.5445 - val_acc: 0.5892\n",
            "Epoch 20/20\n",
            "243/243 [==============================] - 1097s 5s/step - loss: 0.3409 - acc: 0.8640 - val_loss: 1.5698 - val_acc: 0.5886\n"
          ]
        }
      ],
      "source": [
        "checkpoint_callback=tf.keras.callbacks.ModelCheckpoint(filepath='./models/ckpt',\n",
        "                                                           save_weights_only=True,\n",
        "                                                           save_best_only=True)\n",
        "\n",
        "csvlog_callback=tf.keras.callbacks.CSVLogger('history')\n",
        "\n",
        "history = model.fit(dataset, epochs=20,validation_data=val_dataset,callbacks=[checkpoint_callback, csvlog_callback])"
      ]
    },
    {
      "cell_type": "code",
      "execution_count": 22,
      "metadata": {
        "colab": {
          "base_uri": "https://localhost:8080/",
          "height": 295
        },
        "id": "sCl-KW7p3LyV",
        "outputId": "9e159669-ac1a-4862-e14f-ad387f562f2a"
      },
      "outputs": [
        {
          "data": {
            "image/png": "[encoded data removed]",
            "text/plain": [
              "<Figure size 432x288 with 1 Axes>"
            ]
          },
          "metadata": {
            "needs_background": "light"
          },
          "output_type": "display_data"
        }
      ],
      "source": [
        "#plot the learning curves\n",
        "epochs = range(1, len(history.history['loss']) + 1)\n",
        "plt.plot(epochs, history.history['loss'], label = 'loss')\n",
        "plt.plot(epochs, history.history['val_loss'], label = 'val_loss')\n",
        "plt.plot(epochs, history.history['acc'], label = 'acc')\n",
        "plt.plot(epochs, history.history['val_acc'], label = 'val_acc')\n",
        "plt.title('Loss, Accuracy vs Epochs')\n",
        "plt.xlabel(\"Epochs\")\n",
        "plt.ylabel(\"Accuracy\")\n",
        "plt.legend()\n",
        "plt.show()"
      ]
    },
    {
      "cell_type": "code",
      "execution_count": 23,
      "metadata": {
        "colab": {
          "base_uri": "https://localhost:8080/"
        },
        "id": "n2UDKz7q3QBH",
        "outputId": "84dd30aa-f1d2-41bc-a163-5df420e5e357"
      },
      "outputs": [
        {
          "name": "stdout",
          "output_type": "stream",
          "text": [
            "35/35 [==============================] - 26s 754ms/step - loss: 1.5872 - acc: 0.5839\n"
          ]
        },
        {
          "data": {
            "text/plain": [
              "[1.5871989727020264, 0.5838709473609924]"
            ]
          },
          "execution_count": 23,
          "metadata": {},
          "output_type": "execute_result"
        }
      ],
      "source": [
        "# measure the accuracy at test set\n",
        "model.evaluate(test_dataset)"
      ]
    },
    {
      "cell_type": "markdown",
      "metadata": {
        "id": "Q85kPM4vrfLt"
      },
      "source": [
        "### Generate New Text \n",
        "In this part, you will use the model to generate text. However, in order to generate a single text sequence, the model needs to be rebuilt with a batch size of 1. (Because of the way the RNN state is passed from timestep to timestep, the model only accepts a fixed batch size once built.). After building the model, we will feed the single sequence to the model to predict the most likely next letter, add it at the end of the text, then give the extended text to the model to guess the next letter, and so on. These are steps you need to do:\n",
        "1. Restore the latest checkpoint. To keep this prediction step simple, use a batch size of 1. To run the model with a different batch_size which in case is 1, we need to rebuild the model and restore the weights from the checkpoint. \n",
        "2.Prediction the next token based on sampling distribution"
      ]
    },
    {
      "cell_type": "code",
      "execution_count": 24,
      "metadata": {
        "colab": {
          "base_uri": "https://localhost:8080/"
        },
        "id": "WaG3Rr4Qhg-_",
        "outputId": "ae1679e6-92ba-4f25-b2ed-15a23882c433"
      },
      "outputs": [
        {
          "name": "stdout",
          "output_type": "stream",
          "text": [
            "Model: \"sequential_1\"\n",
            "_________________________________________________________________\n",
            " Layer (type)                Output Shape              Param #   \n",
            "=================================================================\n",
            " embedding_1 (Embedding)     (1, None, 256)            16640     \n",
            "                                                                 \n",
            " gru_1 (GRU)                 (1, None, 1024)           3938304   \n",
            "                                                                 \n",
            " dense_1 (Dense)             (1, None, 65)             66625     \n",
            "                                                                 \n",
            "=================================================================\n",
            "Total params: 4,021,569\n",
            "Trainable params: 4,021,569\n",
            "Non-trainable params: 0\n",
            "_________________________________________________________________\n"
          ]
        }
      ],
      "source": [
        "model = get_model(vocab_size, batch_size=1)\n",
        "model.load_weights(tf.train.latest_checkpoint('./models/'))\n",
        "model.summary()"
      ]
    },
    {
      "cell_type": "markdown",
      "metadata": {
        "id": "57Y6GoF1rOUP"
      },
      "source": [
        "### The prediction loop\n",
        "The following code block generates the text:\n",
        "\n",
        "It Starts by choosing a start string, initializing the RNN state and setting the number of characters to generate. In order to predict the next token, we will get the prediction distribution of the next character using the start string and the RNN state. Then, use a categorical distribution to calculate the index of the predicted character. Use this predicted character as our next input to the model.\n",
        "\n",
        "The RNN state returned by the model is fed back into the model so that it now has more context, instead than only one character. After predicting the next character, the modified RNN states are again fed back into the model, which is how it learns as it gets more context from the previously predicted characters"
      ]
    },
    {
      "cell_type": "code",
      "execution_count": 25,
      "metadata": {
        "id": "wptNCF1ohofx"
      },
      "outputs": [],
      "source": [
        "def generate_text(model, num_generate, temperature, start_string):\n",
        "  input_eval = text_vectorization(start_string) # string to numbers (vectorizing)\n",
        "  input_eval -= 2 # to remove padding and unknown tokens\n",
        "  input_eval = tf.expand_dims(input_eval, 0) # dimension expansion at axis0 () \n",
        "  text_generated = [] # Empty string to store our results\n",
        "  model.reset_states() # Clears the hidden states in the RNN\n",
        "\n",
        "  for i in range(num_generate): #Run a loop for number of characters to generate\n",
        "    predictions = model(input_eval) # prediction for single character\n",
        "    predictions = tf.squeeze(predictions, 0) # remove the batch dimension\n",
        "    \n",
        "    # using a categorical distribution to predict the character returned by the model\n",
        "    # higher temperature increases the probability of selecting a less likely character\n",
        "    # lower --> more predictable\n",
        "    predictions = predictions / temperature\n",
        "    predicted_id = tf.random.categorical(predictions, num_samples=1)[-1,0].numpy()\n",
        "    # The predicted character as the next input to the model\n",
        "    # along with the previous hidden state\n",
        "    # So the model makes the next prediction based on the previous character\n",
        "    input_eval = tf.expand_dims([predicted_id], 0) \n",
        "    # Also devectorize the number and add to the generated text\n",
        "    text_generated.append(idx2char[predicted_id]) \n",
        "\n",
        "  return (start_string + ''.join(text_generated))"
      ]
    },
    {
      "cell_type": "code",
      "execution_count": 26,
      "metadata": {
        "colab": {
          "base_uri": "https://localhost:8080/"
        },
        "id": "1gEG7GUwhpKh",
        "outputId": "15dd1534-0aea-4a03-c746-0ec23b074dad"
      },
      "outputs": [
        {
          "name": "stdout",
          "output_type": "stream",
          "text": [
            "First Citizens,\n",
            "And for Lord Clifford and Signior Prince,\n",
            "That France know Upon \n",
            "The Senate $ Now I Do th ! :\n",
            "I  Jon so, zenona : ?\n",
            "\n",
            "CLARENCE:\n",
            "Then 3 $ar for \n",
            "A amelled, cousin for Securate William.\n",
            "\n",
            "CLARENCE:\n",
            "The join 3 be Zount's ence, very William venture.\n",
            "\n",
            "KING DENRY quencle, 3 ay, I \n",
            "marry may Zouncillain ERward \n",
            "And Stand York , : know A age llow Sand France,\n",
            "That xarting s England Warwick have Warwick xather country's country,\n",
            "It  just 's -wounds in the Unless Richard I God Bickly Send Henry.\n",
            "\n",
            "BRAKENB\n"
          ]
        }
      ],
      "source": [
        "generated_text = generate_text(\n",
        "                    model, \n",
        "                    num_generate=500, \n",
        "                    temperature=0.2, \n",
        "                    start_string=u\"First Citizen\")\n",
        "print(generated_text)"
      ]
    },
    {
      "cell_type": "code",
      "execution_count": null,
      "metadata": {
        "id": "Zznhio0iqkga"
      },
      "outputs": [],
      "source": []
    }
  ],
  "metadata": {
    "colab": {
      "provenance": []
    },
    "gpuClass": "standard",
    "kernelspec": {
      "display_name": "Python 3 (ipykernel)",
      "language": "python",
      "name": "python3"
    },
    "language_info": {
      "codemirror_mode": {
        "name": "ipython",
        "version": 3
      },
      "file_extension": ".py",
      "mimetype": "text/x-python",
      "name": "python",
      "nbconvert_exporter": "python",
      "pygments_lexer": "ipython3",
      "version": "3.8.13"
    },
    "latex_envs": {
      "LaTeX_envs_menu_present": true,
      "autoclose": false,
      "autocomplete": true,
      "bibliofile": "biblio.bib",
      "cite_by": "apalike",
      "current_citInitial": 1,
      "eqLabelWithNumbers": true,
      "eqNumInitial": 1,
      "hotkeys": {
        "equation": "Ctrl-E",
        "itemize": "Ctrl-I"
      },
      "labels_anchors": false,
      "latex_user_defs": false,
      "report_style_numbering": false,
      "user_envs_cfg": false
    },
    "toc": {
      "base_numbering": 1,
      "nav_menu": {},
      "number_sections": true,
      "sideBar": true,
      "skip_h1_title": false,
      "title_cell": "Table of Contents",
      "title_sidebar": "Contents",
      "toc_cell": false,
      "toc_position": {},
      "toc_section_display": true,
      "toc_window_display": false
    }
  },
  "nbformat": 4,
  "nbformat_minor": 0
}
