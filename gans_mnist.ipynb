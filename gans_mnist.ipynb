{
  "cells": [
    {
      "attachments": {},
      "cell_type": "markdown",
      "metadata": {
        "id": "wqTs-DVi4U03"
      },
      "source": [
        "DEEP LEARNING <br>\n",
        "GANS <br>"
      ]
    },
    {
      "cell_type": "code",
      "execution_count": 1,
      "metadata": {
        "id": "0Zbx6LBMx8nr"
      },
      "outputs": [],
      "source": [
        "# ! rm -rf image_folder"
      ]
    },
    {
      "cell_type": "code",
      "execution_count": 2,
      "metadata": {
        "colab": {
          "base_uri": "https://localhost:8080/"
        },
        "id": "pg1J5H5Sdm08",
        "outputId": "2e77bcb2-2b6d-4ccb-c720-7e7a923911d4"
      },
      "outputs": [
        {
          "name": "stdout",
          "output_type": "stream",
          "text": [
            "Sat Nov 26 09:11:52 2022       \n",
            "+-----------------------------------------------------------------------------+\n",
            "| NVIDIA-SMI 460.32.03    Driver Version: 460.32.03    CUDA Version: 11.2     |\n",
            "|-------------------------------+----------------------+----------------------+\n",
            "| GPU  Name        Persistence-M| Bus-Id        Disp.A | Volatile Uncorr. ECC |\n",
            "| Fan  Temp  Perf  Pwr:Usage/Cap|         Memory-Usage | GPU-Util  Compute M. |\n",
            "|                               |                      |               MIG M. |\n",
            "|===============================+======================+======================|\n",
            "|   0  Tesla T4            Off  | 00000000:00:04.0 Off |                    0 |\n",
            "| N/A   47C    P8    10W /  70W |      0MiB / 15109MiB |      0%      Default |\n",
            "|                               |                      |                  N/A |\n",
            "+-------------------------------+----------------------+----------------------+\n",
            "                                                                               \n",
            "+-----------------------------------------------------------------------------+\n",
            "| Processes:                                                                  |\n",
            "|  GPU   GI   CI        PID   Type   Process name                  GPU Memory |\n",
            "|        ID   ID                                                   Usage      |\n",
            "|=============================================================================|\n",
            "|  No running processes found                                                 |\n",
            "+-----------------------------------------------------------------------------+\n"
          ]
        }
      ],
      "source": [
        "!nvidia-smi"
      ]
    },
    {
      "cell_type": "code",
      "execution_count": 3,
      "metadata": {
        "colab": {
          "base_uri": "https://localhost:8080/"
        },
        "id": "F3Ot1LUchbQE",
        "outputId": "1c8b83ac-90c3-4bbb-c195-5a7db709a4a2"
      },
      "outputs": [
        {
          "name": "stdout",
          "output_type": "stream",
          "text": [
            "tf version:  2.9.2\n",
            "keras version:  2.9.0\n",
            "gpu:  [PhysicalDevice(name='/physical_device:GPU:0', device_type='GPU')]\n"
          ]
        }
      ],
      "source": [
        "import numpy as np\n",
        "import pandas as pd\n",
        "import matplotlib.pyplot as plt\n",
        "import random\n",
        "import os\n",
        "import time\n",
        "import glob\n",
        "import imageio\n",
        "import tensorflow as tf\n",
        "\n",
        "from tensorflow import keras\n",
        "from tensorflow.keras  import layers, Input\n",
        "from tensorflow.keras.initializers import RandomNormal\n",
        "from IPython import display\n",
        "\n",
        "seed = 42\n",
        "random.seed(seed)\n",
        "np.random.seed(seed)\n",
        "tf.random.set_seed(seed)\n",
        "\n",
        "print('tf version: ', tf.__version__)\n",
        "print('keras version: ', keras.__version__)\n",
        "\n",
        "gpu = tf.config.list_physical_devices('GPU')\n",
        "print('gpu: ', gpu)"
      ]
    },
    {
      "cell_type": "code",
      "execution_count": 4,
      "metadata": {
        "id": "JveRqtgZh18w"
      },
      "outputs": [],
      "source": [
        "img_rows = 28 # width\n",
        "img_cols = 28 # height\n",
        "channels = 1  # color channels\n",
        "img_shape = (img_rows, img_cols, channels) \n",
        "z_dim = 128\n",
        "num_classes = 10"
      ]
    },
    {
      "cell_type": "code",
      "execution_count": 5,
      "metadata": {
        "id": "DRfHXhFObsza"
      },
      "outputs": [],
      "source": [
        "def get_data(buffer_size, batch_size):\n",
        "\n",
        "    (images, labels), (_, _) = keras.datasets.mnist.load_data()\n",
        "    images = images.reshape(images.shape[0], 28, 28, 1).astype('float32')\n",
        "    images = (images - 127.5) / 127.5\n",
        "    # normalize to range [-1, 1]\n",
        "\n",
        "    dataset = tf.data.Dataset.from_tensor_slices((images, labels))\n",
        "    dataset = dataset.shuffle(buffer_size)\n",
        "    dataset = dataset.batch(batch_size)\n",
        "    dataset = dataset.prefetch(tf.data.AUTOTUNE)\n",
        "\n",
        "    return dataset"
      ]
    },
    {
      "cell_type": "markdown",
      "metadata": {
        "id": "lRrgYnt55Zw_"
      },
      "source": [
        "Define G and D"
      ]
    },
    {
      "cell_type": "code",
      "execution_count": 6,
      "metadata": {
        "id": "kHZphajGh59h"
      },
      "outputs": [],
      "source": [
        "def get_G(z_dim):\n",
        "    \n",
        "    model = keras.Sequential([\n",
        "        Input(z_dim),\n",
        "        layers.Dense(7*7*256, use_bias=False),\n",
        "        layers.BatchNormalization(),\n",
        "        layers.Reshape((7,7,256)),\n",
        "\n",
        "        layers.Conv2D(\n",
        "            128,\n",
        "            4,\n",
        "            padding='same',\n",
        "            use_bias=False,\n",
        "            kernel_initializer=RandomNormal(0, 0.02),\n",
        "        ),\n",
        "\n",
        "        layers.BatchNormalization(),\n",
        "        layers.ReLU(),\n",
        "\n",
        "        layers.UpSampling2D(),\n",
        "        layers.Conv2D(\n",
        "            64,\n",
        "            1,\n",
        "            padding='same',\n",
        "            use_bias=False,\n",
        "            kernel_initializer=RandomNormal(0, 0.02),\n",
        "        ),\n",
        "\n",
        "        layers.BatchNormalization(),\n",
        "        layers.ReLU(),\n",
        "\n",
        "        layers.UpSampling2D(),\n",
        "        layers.Conv2D(\n",
        "            1,\n",
        "            4,\n",
        "            padding='same',\n",
        "            use_bias=False,\n",
        "            kernel_initializer=RandomNormal(0, 0.02),\n",
        "        ),\n",
        "\n",
        "        layers.Activation('tanh'),\n",
        "        \n",
        "        ],name='content-g')\n",
        "\n",
        "\n",
        "    z = Input(shape=(z_dim), name='noise_input')\n",
        "    label = Input(shape=(1,), dtype='int32', name='label_input')\n",
        "\n",
        "    label_embedding = layers.Embedding(num_classes, z_dim, input_length=1)(label)\n",
        "    label_embedding = layers.Flatten()(label_embedding)\n",
        "\n",
        "    joint_representation = layers.Multiply()([z, label_embedding])\n",
        "    outputs = model(joint_representation)\n",
        "\n",
        "    return keras.Model(inputs=[z,label], outputs=outputs, name='cG')"
      ]
    },
    {
      "cell_type": "code",
      "execution_count": 7,
      "metadata": {
        "id": "khEmit9nmAEw"
      },
      "outputs": [],
      "source": [
        "def get_D(img_shape):\n",
        "    \n",
        "    concat_shape = (img_shape[0], img_shape[1], img_shape[2] + 1) # 28, 28, 2\n",
        "\n",
        "    model = keras.Sequential([\n",
        "        Input(concat_shape),\n",
        "        layers.Conv2D(\n",
        "            64,\n",
        "            4,\n",
        "            2,\n",
        "            padding='same',\n",
        "            kernel_initializer=RandomNormal(0, 0.02)\n",
        "        ),\n",
        "\n",
        "        layers.BatchNormalization(),\n",
        "        layers.LeakyReLU(0.2),\n",
        "\n",
        "        layers.Conv2D(\n",
        "            128,\n",
        "            4,\n",
        "            2,\n",
        "            padding='same',\n",
        "            kernel_initializer=RandomNormal(0, 0.02)\n",
        "        ),\n",
        "\n",
        "        layers.BatchNormalization(),\n",
        "        layers.LeakyReLU(0.2),\n",
        "\n",
        "        layers.Flatten(),\n",
        "        layers.Dense(1),\n",
        "\n",
        "    ], name='content-d')\n",
        "\n",
        "    img = Input(shape=img_shape, name='img_input')\n",
        "    label = Input(shape=(1,), dtype='int32', name='label')\n",
        "\n",
        "    label_embedding = layers.Embedding(num_classes, np.prod(img_shape), input_length=1)(label)\n",
        "    label_embedding = layers.Flatten()(label_embedding)\n",
        "    label_embedding = layers.Reshape(img_shape)(label_embedding)\n",
        "\n",
        "    joint_representation = layers.Concatenate(axis=-1)([img, label_embedding])\n",
        "    outputs = model(joint_representation)\n",
        "\n",
        "    return keras.Model(inputs=[img,label], outputs=outputs, name='cD')"
      ]
    },
    {
      "cell_type": "code",
      "execution_count": 8,
      "metadata": {
        "colab": {
          "base_uri": "https://localhost:8080/"
        },
        "id": "aaHyvFcMDFY1",
        "outputId": "9151d305-780a-4fb5-db43-99bef3b5dfab"
      },
      "outputs": [
        {
          "name": "stdout",
          "output_type": "stream",
          "text": [
            "Model: \"cG\"\n",
            "__________________________________________________________________________________________________\n",
            " Layer (type)                   Output Shape         Param #     Connected to                     \n",
            "==================================================================================================\n",
            " label_input (InputLayer)       [(None, 1)]          0           []                               \n",
            "                                                                                                  \n",
            " embedding (Embedding)          (None, 1, 128)       1280        ['label_input[0][0]']            \n",
            "                                                                                                  \n",
            " noise_input (InputLayer)       [(None, 128)]        0           []                               \n",
            "                                                                                                  \n",
            " flatten (Flatten)              (None, 128)          0           ['embedding[0][0]']              \n",
            "                                                                                                  \n",
            " multiply (Multiply)            (None, 128)          0           ['noise_input[0][0]',            \n",
            "                                                                  'flatten[0][0]']                \n",
            "                                                                                                  \n",
            " content-g (Sequential)         (None, 28, 28, 1)    2190080     ['multiply[0][0]']               \n",
            "                                                                                                  \n",
            "==================================================================================================\n",
            "Total params: 2,191,360\n",
            "Trainable params: 2,165,888\n",
            "Non-trainable params: 25,472\n",
            "__________________________________________________________________________________________________\n"
          ]
        }
      ],
      "source": [
        "cond_G = get_G(z_dim)\n",
        "cond_G.summary()"
      ]
    },
    {
      "cell_type": "code",
      "execution_count": 9,
      "metadata": {
        "colab": {
          "base_uri": "https://localhost:8080/"
        },
        "id": "tpENTJkJDLUJ",
        "outputId": "8081bba8-addc-450a-ce91-a200c01134ff"
      },
      "outputs": [
        {
          "name": "stdout",
          "output_type": "stream",
          "text": [
            "Model: \"cD\"\n",
            "__________________________________________________________________________________________________\n",
            " Layer (type)                   Output Shape         Param #     Connected to                     \n",
            "==================================================================================================\n",
            " label (InputLayer)             [(None, 1)]          0           []                               \n",
            "                                                                                                  \n",
            " embedding_1 (Embedding)        (None, 1, 784)       7840        ['label[0][0]']                  \n",
            "                                                                                                  \n",
            " flatten_2 (Flatten)            (None, 784)          0           ['embedding_1[0][0]']            \n",
            "                                                                                                  \n",
            " img_input (InputLayer)         [(None, 28, 28, 1)]  0           []                               \n",
            "                                                                                                  \n",
            " reshape_1 (Reshape)            (None, 28, 28, 1)    0           ['flatten_2[0][0]']              \n",
            "                                                                                                  \n",
            " concatenate (Concatenate)      (None, 28, 28, 2)    0           ['img_input[0][0]',              \n",
            "                                                                  'reshape_1[0][0]']              \n",
            "                                                                                                  \n",
            " content-d (Sequential)         (None, 1)            140353      ['concatenate[0][0]']            \n",
            "                                                                                                  \n",
            "==================================================================================================\n",
            "Total params: 148,193\n",
            "Trainable params: 147,809\n",
            "Non-trainable params: 384\n",
            "__________________________________________________________________________________________________\n"
          ]
        }
      ],
      "source": [
        "cond_D = get_D(img_shape)\n",
        "cond_D.summary()"
      ]
    },
    {
      "cell_type": "markdown",
      "metadata": {
        "id": "C-N3nybO5feX"
      },
      "source": [
        "Configure optimizer and loss"
      ]
    },
    {
      "cell_type": "code",
      "execution_count": 10,
      "metadata": {
        "id": "6sRBylDNvBAy"
      },
      "outputs": [],
      "source": [
        "cross_entropy = keras.losses.BinaryCrossentropy(from_logits=True)\n",
        "\n",
        "# TTUR -> use different lr in D and G\n",
        "g_optimizer = keras.optimizers.Adam(learning_rate=3e-4, beta_1=0.5, beta_2=0.9)\n",
        "d_optimizer = keras.optimizers.Adam(learning_rate=1e-4, beta_1=0.5, beta_2=0.9)\n",
        "\n",
        "# mean tracker\n",
        "d_loss_track = keras.metrics.Mean(name='d_loss')\n",
        "g_loss_track = keras.metrics.Mean(name='g_loss')"
      ]
    },
    {
      "cell_type": "code",
      "execution_count": 11,
      "metadata": {
        "id": "GRMPOjpzs0SZ"
      },
      "outputs": [],
      "source": [
        "# use soft labels for d_loss\n",
        "def discriminator_loss(real_output, fake_output):\n",
        "\n",
        "    real_labels = tf.ones_like(real_output)\n",
        "    real_labels = real_labels + 0.05 * tf.random.uniform(tf.shape(real_output))\n",
        "\n",
        "    fake_labels = tf.zeros_like(fake_output)\n",
        "    fake_labels = fake_labels + 0.05 * tf.random.uniform(tf.shape(fake_output))\n",
        "\n",
        "    real_loss = cross_entropy(real_labels, real_output)\n",
        "    fake_loss = cross_entropy(fake_labels, fake_output)\n",
        "\n",
        "    return (real_loss + fake_loss) / 2\n",
        "\n",
        "def generator_loss(fake_output):\n",
        "    return cross_entropy(tf.ones_like(fake_output), fake_output)"
      ]
    },
    {
      "cell_type": "code",
      "execution_count": 21,
      "metadata": {
        "id": "FRXQR0sntubs"
      },
      "outputs": [],
      "source": [
        "@tf.function\n",
        "def train_step(images, labels, noise_dim=z_dim):\n",
        "    \n",
        "    batch_size = tf.shape(images)[0]\n",
        "    noise = tf.random.normal([batch_size, noise_dim])\n",
        "    \n",
        "    # train D\n",
        "    with tf.GradientTape() as d_tape:\n",
        "\n",
        "      fake_images = cond_G([noise, labels], training = True)\n",
        "      real_output = cond_D([images, labels], training = True)\n",
        "      fake_output = cond_D([fake_images, labels], training = True)\n",
        "\n",
        "      d_loss = discriminator_loss(real_output, fake_output)\n",
        "    \n",
        "    d_grad = d_tape.gradient(d_loss, cond_D.trainable_variables)\n",
        "    d_optimizer.apply_gradients(zip(d_grad, cond_D.trainable_variables))\n",
        "\n",
        "    # train G\n",
        "    noise = tf.random.normal([batch_size, noise_dim])\n",
        "    with tf.GradientTape() as g_tape:\n",
        "\n",
        "      fake_images = cond_G([noise, labels], training = True)\n",
        "      fake_output = cond_D([fake_images, labels], training = True)\n",
        "\n",
        "      g_loss = generator_loss(fake_output)\n",
        "\n",
        "    g_grad = g_tape.gradient(g_loss, cond_G.trainable_variables)\n",
        "    g_optimizer.apply_gradients(zip(g_grad, cond_G.trainable_variables))  \n",
        "\n",
        "    d_loss_track.update_state(d_loss)\n",
        "    g_loss_track.update_state(g_loss)"
      ]
    },
    {
      "cell_type": "code",
      "execution_count": 13,
      "metadata": {
        "id": "NpbE_dNscrMF"
      },
      "outputs": [],
      "source": [
        "def generate_and_save_images(model, epoch, inputs, labels):\n",
        "\n",
        "    predictions = model([inputs, labels], training=False)\n",
        "    predictions *= 127.5 \n",
        "    predictions += 127.5\n",
        "\n",
        "    fig = plt.figure(figsize=(10, 4))\n",
        "\n",
        "    for i in range(predictions.shape[0]):\n",
        "        plt.subplot(2, 5, i+1)\n",
        "        plt.imshow(predictions[i, :, :, 0], cmap='gray')\n",
        "        plt.axis('off')\n",
        "        plt.title(labels[i].numpy()[0])\n",
        "\n",
        "    file_name = 'image_at_epoch_{:04d}.png'.format(epoch)\n",
        "    path = os.path.join('image_folder', file_name)\n",
        "    plt.savefig(path)\n",
        "    plt.show()"
      ]
    },
    {
      "cell_type": "code",
      "execution_count": 14,
      "metadata": {
        "colab": {
          "base_uri": "https://localhost:8080/",
          "height": 586
        },
        "id": "TCLcdtaSwjKp",
        "outputId": "9012412d-b712-45bc-88df-42b34cf6c721"
      },
      "outputs": [
        {
          "name": "stdout",
          "output_type": "stream",
          "text": [
            "Downloading data from https://storage.googleapis.com/tensorflow/tf-keras-datasets/mnist.npz\n",
            "11490434/11490434 [==============================] - 0s 0us/step\n",
            "iamges shape:  (256, 28, 28, 1)\n",
            "labels shape:  (256,)\n",
            "labels:  [4 5 7 5 3 6 9 1 3 9 6 7 5 1 4 9]\n",
            "\n"
          ]
        },
        {
          "data": {
            "image/png": "[encoded data removed]",
            "text/plain": [
              "<Figure size 576x576 with 16 Axes>"
            ]
          },
          "metadata": {
            "needs_background": "light"
          },
          "output_type": "display_data"
        }
      ],
      "source": [
        "buffer_size = 30000\n",
        "batch_size = 256\n",
        "test_datagen = get_data(buffer_size, batch_size)\n",
        "\n",
        "for images, labels in test_datagen:\n",
        "    print('iamges shape: ', images.shape)\n",
        "    print('labels shape: ', labels.shape)\n",
        "    print('labels: ', labels[:16].numpy())\n",
        "    print()\n",
        "\n",
        "    fig = plt.figure(figsize=(8, 8))\n",
        "    for i in range(16):\n",
        "        plt.subplot(4, 4, i + 1)\n",
        "        plt.imshow(images[i, :, :, 0], cmap='gray')\n",
        "        plt.axis('off')\n",
        "        plt.title(labels[i].numpy())\n",
        "    break"
      ]
    },
    {
      "cell_type": "code",
      "execution_count": 15,
      "metadata": {
        "id": "VJJRnfPKtNj0"
      },
      "outputs": [],
      "source": [
        "checkpoint_dir = 'training_checkpoints'\n",
        "checkpoint_prefix = os.path.join(checkpoint_dir, \"ckpt\")\n",
        "checkpoint = tf.train.Checkpoint(generator_optimizer=g_optimizer,\n",
        "                                 discriminator_optimizer=d_optimizer,\n",
        "                                 generator=cond_G,\n",
        "                                 discriminator=cond_D)"
      ]
    },
    {
      "cell_type": "code",
      "execution_count": 16,
      "metadata": {
        "id": "ZnTN5zTbtU3G"
      },
      "outputs": [],
      "source": [
        "num_examples = 10\n",
        "test_inputs = tf.random.normal((num_examples, z_dim))\n",
        "test_labels = tf.constant(range(10))\n",
        "test_labels = tf.reshape(test_labels, shape=(10, 1))"
      ]
    },
    {
      "cell_type": "code",
      "execution_count": 17,
      "metadata": {
        "id": "tLvVVskDm-aC"
      },
      "outputs": [],
      "source": [
        "os.makedirs('image_folder', exist_ok=True)\n",
        "time.sleep(3)"
      ]
    },
    {
      "cell_type": "markdown",
      "metadata": {
        "id": "kGVqMX5N5kyP"
      },
      "source": [
        "Training loop"
      ]
    },
    {
      "cell_type": "code",
      "execution_count": 22,
      "metadata": {
        "colab": {
          "base_uri": "https://localhost:8080/",
          "height": 297
        },
        "id": "WZ7Q2sVHa3iz",
        "outputId": "d68f737f-bb59-4d95-9f18-3e485cfe2fc0"
      },
      "outputs": [
        {
          "name": "stdout",
          "output_type": "stream",
          "text": [
            "DONE..\n",
            "\n"
          ]
        },
        {
          "data": {
            "image/png": "[encoded data removed]",
            "text/plain": [
              "<Figure size 720x288 with 10 Axes>"
            ]
          },
          "metadata": {
            "needs_background": "light"
          },
          "output_type": "display_data"
        }
      ],
      "source": [
        "EPOCHS = 30\n",
        "D_loss_list = []\n",
        "G_loss_list = []\n",
        "\n",
        "buffer_size = 30000\n",
        "batch_size = 256\n",
        "print('loading data...')\n",
        "dataset = get_data(buffer_size, batch_size)\n",
        "\n",
        "for epoch in range(EPOCHS):\n",
        "    print(f'stating epoch {epoch + 1}')\n",
        "    start = time.time()\n",
        "\n",
        "    for images, labels in dataset:\n",
        "        train_step(images, labels)\n",
        "\n",
        "    if (epoch + 1) % 5 == 0:\n",
        "        checkpoint.save(file_prefix=checkpoint_prefix)\n",
        "\n",
        "    display.clear_output(wait=True)\n",
        "\n",
        "    print ('Time for epoch {} is {} sec'.format(epoch + 1, time.time() - start))\n",
        "    # avg loss at end of epoch\n",
        "    d_loss = d_loss_track.result().numpy()\n",
        "    g_loss = g_loss_track.result().numpy()\n",
        "    print(f'D loss : {d_loss}, G loss : {g_loss}')\n",
        "    print()\n",
        "    generate_and_save_images(cond_G, epoch + 1, test_inputs, test_labels)\n",
        "    print()\n",
        "\n",
        "    D_loss_list.append(d_loss)\n",
        "    G_loss_list.append(g_loss)\n",
        "\n",
        "# Generate after the final epoch\n",
        "display.clear_output(wait=True)\n",
        "print(\"DONE..\")\n",
        "print()\n",
        "generate_and_save_images(cond_G, epoch + 1, test_inputs, test_labels)"
      ]
    },
    {
      "cell_type": "code",
      "execution_count": 23,
      "metadata": {
        "colab": {
          "base_uri": "https://localhost:8080/",
          "height": 266
        },
        "id": "VWehEgU70e9a",
        "outputId": "b6e8c435-2df9-4433-8c15-570afbf6d7df"
      },
      "outputs": [
        {
          "data": {
            "image/png": "[encoded data removed]",
            "text/plain": [
              "<Figure size 432x288 with 1 Axes>"
            ]
          },
          "metadata": {
            "needs_background": "light"
          },
          "output_type": "display_data"
        }
      ],
      "source": [
        "loss_dict = {'D_loss': D_loss_list, 'G_loss': G_loss_list}\n",
        "loss_df = pd.DataFrame(loss_dict)\n",
        "loss_df.plot()\n",
        "plt.show()"
      ]
    },
    {
      "cell_type": "code",
      "execution_count": null,
      "metadata": {
        "id": "6xRzdGYSj-3x"
      },
      "outputs": [],
      "source": [
        "# restore model and optimizer\n",
        "# checkpoint.restore(tf.train.latest_checkpoint(checkpoint_dir))"
      ]
    },
    {
      "cell_type": "markdown",
      "metadata": {
        "id": "j4h_Mcoa5n6H"
      },
      "source": [
        "Play with G here"
      ]
    },
    {
      "cell_type": "code",
      "execution_count": 24,
      "metadata": {
        "id": "0mH4n-yTysrN"
      },
      "outputs": [],
      "source": [
        "def play_with_G(label, model=cond_G):\n",
        "\n",
        "    noise = tf.random.normal((1, z_dim))\n",
        "    label = tf.constant([[label]])\n",
        "\n",
        "    gen_img = cond_G([noise, label], training=False).numpy()\n",
        "    gen_img = gen_img.reshape((28, 28))\n",
        "    plt.imshow(gen_img * 127.5 + 127.5, cmap='gray')\n",
        "    plt.axis('off')\n",
        "    plt.show()"
      ]
    },
    {
      "cell_type": "code",
      "execution_count": 30,
      "metadata": {
        "colab": {
          "base_uri": "https://localhost:8080/",
          "height": 248
        },
        "id": "ddYW-3ec3VZt",
        "outputId": "370577bf-bfc3-424d-923d-af0f65be17ad"
      },
      "outputs": [
        {
          "data": {
            "image/png": "[encoded data removed]",
            "text/plain": [
              "<Figure size 432x288 with 1 Axes>"
            ]
          },
          "metadata": {
            "needs_background": "light"
          },
          "output_type": "display_data"
        }
      ],
      "source": [
        "play_with_G(4)"
      ]
    },
    {
      "cell_type": "markdown",
      "metadata": {
        "id": "xt-tTteb5qUm"
      },
      "source": [
        "ของติดไม้ติดมือ"
      ]
    },
    {
      "cell_type": "code",
      "execution_count": 31,
      "metadata": {
        "id": "3PbwzGOm0Nvs"
      },
      "outputs": [],
      "source": [
        "anim_file = 'dcgan.gif'\n",
        "\n",
        "with imageio.get_writer(anim_file, mode='I') as writer:\n",
        "    filenames = glob.glob('image_folder/image*.png')\n",
        "    filenames = sorted(filenames)\n",
        "    for filename in filenames:\n",
        "        image = imageio.imread(filename)\n",
        "        writer.append_data(image)\n",
        "    image = imageio.imread(filename)\n",
        "    writer.append_data(image)"
      ]
    }
  ],
  "metadata": {
    "accelerator": "GPU",
    "colab": {
      "provenance": []
    },
    "gpuClass": "standard",
    "kernelspec": {
      "display_name": "Python 3",
      "name": "python3"
    },
    "language_info": {
      "name": "python"
    }
  },
  "nbformat": 4,
  "nbformat_minor": 0
}
